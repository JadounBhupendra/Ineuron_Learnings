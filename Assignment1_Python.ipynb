{
 "cells": [
  {
   "cell_type": "code",
   "execution_count": null,
   "id": "f4080755",
   "metadata": {},
   "outputs": [],
   "source": [
    "Assignment 1 , Submitted By: Bhupendra Singh"
   ]
  },
  {
   "cell_type": "markdown",
   "id": "7ed9ed73",
   "metadata": {},
   "source": [
    "1. In the below elements which of them are values or an expression? eg:- values can be\n",
    "integer or string and expressions will be mathematical operators.\n",
    "*,'hello', -87.8,-,/,+,6\n",
    "\n",
    "Ans:\n",
    "Values:'hello', 87.8, 6\n",
    "Expression(operators): *,-,/,+"
   ]
  },
  {
   "cell_type": "markdown",
   "id": "d30f9ad3",
   "metadata": {},
   "source": [
    "Qus2. What is the difference between string and variable?\n",
    "Ans2.  A Variable is used to store of information, and a String is a type of information you would store in a Variable. Example: a = 25, b = \"bhupendra\". Here a and b are variables.\n",
    "A String is a group of characters or a single character usually enclosed in Double quotes \" \" or single quotes ' '. Ex : \"Bhupendra\" , \"a\"."
   ]
  },
  {
   "cell_type": "markdown",
   "id": "36453e1c",
   "metadata": {},
   "source": [
    "Qus3. Describe three different data types.\n",
    "Ans3. Three basic data types in python are ( int, float, char)\n",
    "Int: Used to represet whole numbers(Ex:10,20,22,15).\n",
    "Float: Used to represent the decimal numbers(Ex:1.1,2.5,2.6)\n",
    "str: Used to represent the characters/ string (Ex: \"Ineuron\", \"Singh\")"
   ]
  },
  {
   "cell_type": "markdown",
   "id": "9a03e0e8",
   "metadata": {},
   "source": [
    " Qus4:What is an expression made up of? What do all expressions do?\n",
    " Ans4:An expression is a combination of values, variables, operators, and calls to functions. Expressions need to be evaluated. If we ask Python to print an expression, the interpreter evaluates the expression and displays the result. An expression is evaluated as per the precedence of its operators.\n",
    " Ex: 5*44-58/2"
   ]
  },
  {
   "cell_type": "code",
   "execution_count": 3,
   "id": "b3b8cc52",
   "metadata": {},
   "outputs": [
    {
     "data": {
      "text/plain": [
       "191.0"
      ]
     },
     "execution_count": 3,
     "metadata": {},
     "output_type": "execute_result"
    }
   ],
   "source": [
    "5*44-58/2"
   ]
  },
  {
   "cell_type": "markdown",
   "id": "f7974e84",
   "metadata": {},
   "source": [
    "Qus5. This assignment statements, like spam = 10. What is the difference between an\n",
    "expression and a statement?\n",
    "\n",
    "Ans5.: An expression is a combination of values, variables, and operators.When we type an expression at the prompt, the interpreter evaluates it, which means that it finds the value of the expression.\n",
    "Ex: 55*4-69*2+1\n",
    "\n",
    "A statement is an instruction that the Python interpreter can execute. We have seen two kinds of statements: print and assignment.\n",
    "Ex : Rs = 50."
   ]
  },
  {
   "cell_type": "code",
   "execution_count": 6,
   "id": "7a3e4fbc",
   "metadata": {},
   "outputs": [
    {
     "name": "stdout",
     "output_type": "stream",
     "text": [
      " This is my first assignment\n"
     ]
    }
   ],
   "source": [
    "# Expression\n",
    "50*5-6*2\n",
    "\n",
    "#Statement \n",
    "print(\" This is my first assignment\")"
   ]
  },
  {
   "cell_type": "code",
   "execution_count": 7,
   "id": "c7ab8e68",
   "metadata": {},
   "outputs": [
    {
     "data": {
      "text/plain": [
       "23"
      ]
     },
     "execution_count": 7,
     "metadata": {},
     "output_type": "execute_result"
    }
   ],
   "source": [
    "#Qus6. After running the following code, what does the variable bacon contain?\n",
    "bacon = 22\n",
    "bacon + 1"
   ]
  },
  {
   "cell_type": "code",
   "execution_count": 8,
   "id": "f234a764",
   "metadata": {},
   "outputs": [
    {
     "data": {
      "text/plain": [
       "'spamspamspam'"
      ]
     },
     "execution_count": 8,
     "metadata": {},
     "output_type": "execute_result"
    }
   ],
   "source": [
    "#Qus7. What should the values of the following two terms be?\n",
    "'spam'+'spamspam'\n",
    "'spam'*3\n",
    "# Answer will be(spamspamspam) same for both expression (one is using concatenation and one is using multiplication)"
   ]
  },
  {
   "cell_type": "markdown",
   "id": "0a7a2274",
   "metadata": {},
   "source": [
    "Qus8. Why is eggs a valid variable name while 100 is invalid?\n",
    "Ans: Rules for Python variables:\n",
    "\n",
    "A variable name must start with a letter or the underscore character\n",
    "A variable name cannot start with a number\n",
    "A variable name can only contain alpha-numeric characters and underscores (A-z, 0-9, and _ )\n",
    "Variable names are case-sensitive (age, Age and AGE are three different variables)\n",
    "\n"
   ]
  },
  {
   "cell_type": "code",
   "execution_count": 9,
   "id": "77e4c15a",
   "metadata": {},
   "outputs": [
    {
     "ename": "SyntaxError",
     "evalue": "cannot assign to literal (1382822931.py, line 4)",
     "output_type": "error",
     "traceback": [
      "\u001b[1;36m  Input \u001b[1;32mIn [9]\u001b[1;36m\u001b[0m\n\u001b[1;33m    100=\"bhupendra\" #invalid variable\u001b[0m\n\u001b[1;37m    ^\u001b[0m\n\u001b[1;31mSyntaxError\u001b[0m\u001b[1;31m:\u001b[0m cannot assign to literal\n"
     ]
    }
   ],
   "source": [
    "#Example:\n",
    "Egg= \"bhupendra\" #valid variable \n",
    "print(Egg) \n",
    "100=\"bhupendra\" #invalid variable\n",
    "print(100)"
   ]
  },
  {
   "cell_type": "code",
   "execution_count": 14,
   "id": "a5832a5e",
   "metadata": {},
   "outputs": [
    {
     "name": "stdout",
     "output_type": "stream",
     "text": [
      "int(24.0) ->  24\n",
      "float(54) ->  54.0\n",
      "str(22) ->  22\n"
     ]
    }
   ],
   "source": [
    "#Qus9:What three functions can be used to get the integer, floating-point number, or string version of a value?\n",
    "print('int(24.0) -> ',int(24.0))# int() function converts given input to int\n",
    "print('float(54) -> ',float(54)) # float() function converts given input to float\n",
    "print('str(22) -> ',str(22)) # str() function converts given input to string\n"
   ]
  },
  {
   "cell_type": "markdown",
   "id": "91450141",
   "metadata": {},
   "source": [
    "Qus10. Why does this expression cause an error? How can you fix it?\n",
    "'I have eaten ' + 99 + 'burritos.'\n",
    "Ans 10: 99 is not a string so we can't concatenate integer with string. We can do this with typecasting.\n"
   ]
  },
  {
   "cell_type": "code",
   "execution_count": 19,
   "id": "fde0477c",
   "metadata": {},
   "outputs": [
    {
     "name": "stdout",
     "output_type": "stream",
     "text": [
      "I have eaten 99 burritos.\n"
     ]
    }
   ],
   "source": [
    "#Example:\n",
    "    #'I have eaten ' + 99 + 'burritos.'\n",
    "print('I have eaten ' + str(99) + ' burritos.')"
   ]
  },
  {
   "cell_type": "code",
   "execution_count": null,
   "id": "daf3f185",
   "metadata": {},
   "outputs": [],
   "source": []
  }
 ],
 "metadata": {
  "kernelspec": {
   "display_name": "Python 3 (ipykernel)",
   "language": "python",
   "name": "python3"
  },
  "language_info": {
   "codemirror_mode": {
    "name": "ipython",
    "version": 3
   },
   "file_extension": ".py",
   "mimetype": "text/x-python",
   "name": "python",
   "nbconvert_exporter": "python",
   "pygments_lexer": "ipython3",
   "version": "3.9.12"
  }
 },
 "nbformat": 4,
 "nbformat_minor": 5
}
