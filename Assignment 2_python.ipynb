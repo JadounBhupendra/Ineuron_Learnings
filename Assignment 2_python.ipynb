{
 "cells": [
  {
   "cell_type": "code",
   "execution_count": 1,
   "id": "11e254af",
   "metadata": {},
   "outputs": [
    {
     "name": "stdout",
     "output_type": "stream",
     "text": [
      "True <class 'bool'>\n",
      "False <class 'bool'>\n"
     ]
    }
   ],
   "source": [
    "#Qus1.What are the two values of the boolean data types? how do you write them ?\n",
    "\"\"\"Ans: Two values of the boolen data types are True and False. We have to use capital T and F and with the rest of the word in lowercase. The type() of both True and False is bool. The type bool is built in, meaning it’s always available in Python and doesn’t need to be imported.\"\"\"\n",
    "X=True\n",
    "Y=False\n",
    "print(X,type(X))\n",
    "print(Y,type(Y))"
   ]
  },
  {
   "cell_type": "markdown",
   "id": "cfae330f",
   "metadata": {},
   "source": [
    "Qus2:What are the three different types of Boolean operators?\n",
    "Ans: Boolean operators form the basis of mathematical sets and database logic. They connect our search words together to either narrow or broaden our set of results.The three differnt types of Boolean operators in python are:(are, and, not) Example: a>50 and b>45, A<12 or A>12 "
   ]
  },
  {
   "cell_type": "code",
   "execution_count": 2,
   "id": "68542cd7",
   "metadata": {},
   "outputs": [
    {
     "name": "stdout",
     "output_type": "stream",
     "text": [
      "False\n"
     ]
    }
   ],
   "source": [
    "a=700\n",
    "b=200\n",
    "print(a>700 and b>200) # Example of boolean operator(and) "
   ]
  },
  {
   "cell_type": "markdown",
   "id": "6ab9f8e5",
   "metadata": {},
   "source": [
    "Qus3. Make a list of each Boolean operator's truth tables (i.e. every possible combination of Boolean values for the operator and what it evaluate)\n",
    "Ans: The Truth tables for the boolean tables are as follows:\n",
    "\n",
    "1.Truth Table for and operator\n",
    "True and True --> True\n",
    "True and False --> False\n",
    "False and True --> False\n",
    "False and False --> False\n",
    "\n",
    "2.Truth Table for or operator\n",
    "True or True --> True\n",
    "True or False --> True\n",
    "False or True --> True\n",
    "False or False --> False\n",
    "\n",
    "3.Truth Table for not operator\n",
    "True not --> False \n",
    "False not --> True"
   ]
  },
  {
   "cell_type": "markdown",
   "id": "f48c40d3",
   "metadata": {},
   "source": [
    "Qus4. What are the values of the following expressions ?\n",
    "(5 > 4) and (3 == 5)\n",
    "not (5 > 4)\n",
    "(5 > 4) or (3 == 5)\n",
    "not ((5 > 4) or (3 == 5))\n",
    "(True and True) and (True == False)\n",
    "(not False) or (not True)"
   ]
  },
  {
   "cell_type": "code",
   "execution_count": 3,
   "id": "418a138f",
   "metadata": {},
   "outputs": [
    {
     "name": "stdout",
     "output_type": "stream",
     "text": [
      "False\n",
      "False\n",
      "True\n",
      "False\n",
      "False\n",
      "True\n"
     ]
    }
   ],
   "source": [
    "#Ans4 \n",
    "print((5 > 4) and (3 == 5))\n",
    "print(not (5 > 4))\n",
    "print((5 > 4) or (3 == 5))\n",
    "print(not((5 > 4) or (3 == 5)))\n",
    "print((True and True) and (True == False))\n",
    "print((not False) or (not True))"
   ]
  },
  {
   "cell_type": "markdown",
   "id": "6bc72070",
   "metadata": {},
   "source": [
    "Qus5. What are the six comparison operators?\n",
    "Ans5: The Six Comparision Operators available in python are :\n",
    "== , != , < , > , <= , =>"
   ]
  },
  {
   "cell_type": "markdown",
   "id": "a64e7ab1",
   "metadata": {},
   "source": [
    "Qus6. How do you tell the difference between the equal to and assignment operators?Describe a\n",
    "condition and when you would use one.\n",
    "Ans6: (== )is the equal to operator that compares two values and evaluates to a Boolean, while (= )is that assignment operator that stores a value in a variable."
   ]
  },
  {
   "cell_type": "code",
   "execution_count": 4,
   "id": "fcf620b5",
   "metadata": {},
   "outputs": [
    {
     "name": "stdout",
     "output_type": "stream",
     "text": [
      "ham\n",
      "spam\n",
      "spam\n"
     ]
    }
   ],
   "source": [
    "#Qus7. Identify the three blocks in this code:\n",
    "spam = 0\n",
    "if spam == 10:\n",
    "    print('eggs')\n",
    "if spam > 5:\n",
    "    print('bacon')\n",
    "else:\n",
    "    print('ham')\n",
    "    print('spam')\n",
    "    print('spam')\n",
    "#Ans7:In Python, code block refers to a collection of code that is in the same block or indent. \n",
    "#This is most commonly found in classes, functions, and loops.\n",
    "#3 Blocks are (ham, spam,spam)"
   ]
  },
  {
   "cell_type": "markdown",
   "id": "f3fe1aac",
   "metadata": {},
   "source": [
    "Qus8. Write code that prints Hello if 1 is stored in spam, prints Howdy if 2 is stored in spam, and prints Greetings! if anything else is stored in spam.\n"
   ]
  },
  {
   "cell_type": "markdown",
   "id": "3d4bb6ea",
   "metadata": {},
   "source": [
    "QUs9.If your programme is stuck in an endless loop, what keys you’ll press?\n",
    "\n",
    "Ans9: To stop a program stuck in an infinite loop, we press Ctrl-c."
   ]
  },
  {
   "cell_type": "markdown",
   "id": "fd0a9602",
   "metadata": {},
   "source": [
    "Qus10. How can you tell the difference between break and continue?\n",
    "Ans: The break statement will move the execution outside the loop if break condtion is satisfied whereas the continue statement will move the execution to the start of the loop. Example of break and continue is mentioned below:"
   ]
  },
  {
   "cell_type": "code",
   "execution_count": 6,
   "id": "09959fdc",
   "metadata": {},
   "outputs": [
    {
     "name": "stdout",
     "output_type": "stream",
     "text": [
      "S\n",
      "The end\n"
     ]
    }
   ],
   "source": [
    "#Ans10:Use of break statement inside the loop\n",
    "\n",
    "for val in \"Singh\":\n",
    "    if val == \"i\":\n",
    "        break\n",
    "    print(val)\n",
    "\n",
    "print(\"The end\")"
   ]
  },
  {
   "cell_type": "code",
   "execution_count": 7,
   "id": "49cbf9d5",
   "metadata": {},
   "outputs": [
    {
     "name": "stdout",
     "output_type": "stream",
     "text": [
      "b\n",
      "h\n",
      "u\n",
      "p\n",
      "n\n",
      "d\n",
      "r\n",
      "a\n",
      "The end\n"
     ]
    }
   ],
   "source": [
    "# Program to show the use of continue statement inside loops\n",
    "\n",
    "for val in \"bhupendra\":\n",
    "    if val == \"e\":\n",
    "        continue\n",
    "    print(val)\n",
    "\n",
    "print(\"The end\")"
   ]
  },
  {
   "cell_type": "markdown",
   "id": "57fd926c",
   "metadata": {},
   "source": [
    "Qus11 In a for loop, what is the difference between range(10), range(0, 10), and range(0, 10, 1)?\n",
    "Ans: The Differences are as follows:\n",
    "\n",
    "Ans11:The range(10) call range from 0 to 9 (but not include 10)\n",
    "     The range (0,10) tells the loop to start at 0\n",
    "     The range(0,10,1)tells the loop to increase the variable by 1 on each iteration."
   ]
  },
  {
   "cell_type": "code",
   "execution_count": 8,
   "id": "ab811225",
   "metadata": {},
   "outputs": [
    {
     "name": "stdout",
     "output_type": "stream",
     "text": [
      "0 1 2 3 4 5 6 7 8 9 \n"
     ]
    }
   ],
   "source": [
    "# printing a number\n",
    "for i in range(10):\n",
    "    print(i, end=\" \")\n",
    "print()"
   ]
  },
  {
   "cell_type": "code",
   "execution_count": 9,
   "id": "9d58099d",
   "metadata": {},
   "outputs": [
    {
     "name": "stdout",
     "output_type": "stream",
     "text": [
      "0 1 2 3 4 5 6 7 8 9 \n"
     ]
    }
   ],
   "source": [
    "# printing a number\n",
    "for i in range(0,10):\n",
    "    print(i, end=\" \")\n",
    "print()"
   ]
  },
  {
   "cell_type": "code",
   "execution_count": 10,
   "id": "449568ac",
   "metadata": {},
   "outputs": [
    {
     "name": "stdout",
     "output_type": "stream",
     "text": [
      "0 1 2 3 4 5 6 7 8 9 \n"
     ]
    }
   ],
   "source": [
    "# printing a number\n",
    "for i in range(0,10,1):\n",
    "    print(i, end=\" \")\n",
    "print()"
   ]
  },
  {
   "cell_type": "markdown",
   "id": "092c231a",
   "metadata": {},
   "source": [
    "Qus12. Write a short program that prints the numbers 1 to 10 using a for loop. Then write an equivalent program that prints the numbers 1 to 10 using a while loop ?"
   ]
  },
  {
   "cell_type": "code",
   "execution_count": 15,
   "id": "2681f321",
   "metadata": {},
   "outputs": [
    {
     "name": "stdout",
     "output_type": "stream",
     "text": [
      "For Loop\n",
      "1 2 3 4 5 6 7 8 9 10 \n"
     ]
    }
   ],
   "source": [
    "print(\"For Loop\")\n",
    "for i in range(1,11):\n",
    "    print(i, end=\" \")\n",
    "print()\n"
   ]
  },
  {
   "cell_type": "code",
   "execution_count": 13,
   "id": "0dfeef8d",
   "metadata": {},
   "outputs": [
    {
     "name": "stdout",
     "output_type": "stream",
     "text": [
      "while loop\n",
      "1 2 3 4 5 6 7 8 9 10 \n"
     ]
    }
   ],
   "source": [
    "print(\"while loop\")\n",
    "i=1\n",
    "while i<=10:\n",
    "    print(i, end=\" \")\n",
    "    i+=1\n",
    "print()"
   ]
  },
  {
   "cell_type": "markdown",
   "id": "d0d98eb1",
   "metadata": {},
   "source": [
    "Qus13. If you had a function named bacon() inside a module named spam, how would you call it after importing spam ?"
   ]
  },
  {
   "cell_type": "code",
   "execution_count": null,
   "id": "076d56c3",
   "metadata": {},
   "outputs": [],
   "source": [
    "Ans 13:This function can be called with spam.bacon()"
   ]
  }
 ],
 "metadata": {
  "kernelspec": {
   "display_name": "Python 3 (ipykernel)",
   "language": "python",
   "name": "python3"
  },
  "language_info": {
   "codemirror_mode": {
    "name": "ipython",
    "version": 3
   },
   "file_extension": ".py",
   "mimetype": "text/x-python",
   "name": "python",
   "nbconvert_exporter": "python",
   "pygments_lexer": "ipython3",
   "version": "3.9.12"
  }
 },
 "nbformat": 4,
 "nbformat_minor": 5
}
